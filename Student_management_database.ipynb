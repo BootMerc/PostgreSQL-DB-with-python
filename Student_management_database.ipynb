{
 "cells": [
  {
   "cell_type": "code",
   "execution_count": 2,
   "id": "3eb7edd7",
   "metadata": {},
   "outputs": [],
   "source": [
    "import psycopg2\n"
   ]
  },
  {
   "cell_type": "code",
   "execution_count": null,
   "id": "b046731d",
   "metadata": {},
   "outputs": [
    {
     "name": "stdout",
     "output_type": "stream",
     "text": [
      "Database connected successfully.\n"
     ]
    }
   ],
   "source": [
    "\n",
    "my_conn = psycopg2.connect(\n",
    "    dbname=\"student_management\", #ur database name\n",
    "    user=\"\", #ur username\n",
    "    password=\"\", #ur password\n",
    "    port=\"\", #ur port number\n",
    "    host=\"localhost\",\n",
    ")\n",
    "cur = my_conn.cursor()\n",
    "print(\"Database connected successfully.\")"
   ]
  },
  {
   "cell_type": "code",
   "execution_count": 4,
   "id": "6ce118ae",
   "metadata": {},
   "outputs": [],
   "source": [
    "cur= my_conn.cursor()"
   ]
  },
  {
   "cell_type": "markdown",
   "id": "b7f65d49",
   "metadata": {},
   "source": [
    "### to create a new database"
   ]
  },
  {
   "cell_type": "code",
   "execution_count": 5,
   "id": "dd9338d9",
   "metadata": {},
   "outputs": [
    {
     "ename": "DuplicateDatabase",
     "evalue": "database \"student_management\" already exists\n",
     "output_type": "error",
     "traceback": [
      "\u001b[31m---------------------------------------------------------------------------\u001b[39m",
      "\u001b[31mDuplicateDatabase\u001b[39m                         Traceback (most recent call last)",
      "\u001b[36mCell\u001b[39m\u001b[36m \u001b[39m\u001b[32mIn[5]\u001b[39m\u001b[32m, line 3\u001b[39m\n\u001b[32m      1\u001b[39m my_conn.autocommit = \u001b[38;5;28;01mTrue\u001b[39;00m\n\u001b[32m      2\u001b[39m cur = my_conn.cursor()\n\u001b[32m----> \u001b[39m\u001b[32m3\u001b[39m \u001b[43mcur\u001b[49m\u001b[43m.\u001b[49m\u001b[43mexecute\u001b[49m\u001b[43m(\u001b[49m\u001b[33;43m\"\u001b[39;49m\u001b[33;43mCREATE DATABASE student_management;\u001b[39;49m\u001b[33;43m\"\u001b[39;49m\u001b[43m)\u001b[49m\n",
      "\u001b[31mDuplicateDatabase\u001b[39m: database \"student_management\" already exists\n"
     ]
    }
   ],
   "source": [
    "my_conn.autocommit = True\n",
    "cur = my_conn.cursor()\n",
    "cur.execute(\"CREATE DATABASE student_management;\")"
   ]
  },
  {
   "cell_type": "code",
   "execution_count": 6,
   "id": "d5d30a7d",
   "metadata": {},
   "outputs": [],
   "source": [
    "cur= my_conn.cursor()"
   ]
  },
  {
   "cell_type": "markdown",
   "id": "a58031c8",
   "metadata": {},
   "source": [
    "### show databases available\n"
   ]
  },
  {
   "cell_type": "code",
   "execution_count": 7,
   "id": "82cb0cf7",
   "metadata": {},
   "outputs": [
    {
     "name": "stdout",
     "output_type": "stream",
     "text": [
      "postgres\n",
      "DEPi\n",
      "Student\n",
      "ds_new\n",
      "student_management\n"
     ]
    }
   ],
   "source": [
    "cur.execute(\"SELECT datname FROM pg_database WHERE datistemplate = false;\")\n",
    "for db in cur.fetchall():\n",
    "    print(db[0])\n"
   ]
  },
  {
   "cell_type": "markdown",
   "id": "2a956746",
   "metadata": {},
   "source": [
    "### creating tables"
   ]
  },
  {
   "cell_type": "code",
   "execution_count": null,
   "id": "0e7df69a",
   "metadata": {},
   "outputs": [
    {
     "name": "stdout",
     "output_type": "stream",
     "text": [
      "Table 'students' created successfully\n"
     ]
    }
   ],
   "source": [
    "cur.execute(\"\"\"\n",
    "            CREATE TABLE students(\n",
    "                student_id SERIAL PRIMARY KEY,\n",
    "                name VARCHAR(40),\n",
    "                email VARCHAR(30),\n",
    "                phone VARCHAR(20))\n",
    "\"\"\")\n",
    "print(\"Table 'students' created successfully\")"
   ]
  },
  {
   "cell_type": "code",
   "execution_count": 10,
   "id": "9742ada5",
   "metadata": {},
   "outputs": [
    {
     "name": "stdout",
     "output_type": "stream",
     "text": [
      "Table 'courses' created successfully\n"
     ]
    }
   ],
   "source": [
    "cur.execute(\"\"\"\n",
    "            CREATE TABLE courses(\n",
    "                course_id SERIAL PRIMARY KEY,\n",
    "                course_name VARCHAR(15),\n",
    "                credits INT)        \n",
    "\"\"\")\n",
    "print(\"Table 'courses' created successfully\")"
   ]
  },
  {
   "cell_type": "markdown",
   "id": "5de507d1",
   "metadata": {},
   "source": [
    "### altering value for type character varying(15) to (30)"
   ]
  },
  {
   "cell_type": "code",
   "execution_count": 18,
   "id": "a9939259",
   "metadata": {},
   "outputs": [],
   "source": [
    "cur.execute(\"\"\"\n",
    "ALTER TABLE courses\n",
    "ALTER COLUMN course_name TYPE VARCHAR(30)\n",
    "\"\"\")\n",
    "my_conn.commit()"
   ]
  },
  {
   "cell_type": "code",
   "execution_count": 11,
   "id": "ee3e6344",
   "metadata": {},
   "outputs": [
    {
     "name": "stdout",
     "output_type": "stream",
     "text": [
      "Table 'courses' created successfully\n"
     ]
    }
   ],
   "source": [
    "cur.execute(\"\"\"\n",
    "            CREATE TABLE enrollments(\n",
    "                enrollment_id SERIAL PRIMARY KEY,\n",
    "                student_id INT REFERENCES students(student_id),\n",
    "                course_id INT REFERENCES courses(course_id),\n",
    "                grade VARCHAR(5))        \n",
    "\"\"\")\n",
    "print(\"Table 'courses' created successfully\")"
   ]
  },
  {
   "cell_type": "markdown",
   "id": "83a8c788",
   "metadata": {},
   "source": [
    "### insertions"
   ]
  },
  {
   "cell_type": "code",
   "execution_count": 13,
   "id": "2867894b",
   "metadata": {},
   "outputs": [
    {
     "name": "stdout",
     "output_type": "stream",
     "text": [
      "5 the new record was inserted\n"
     ]
    }
   ],
   "source": [
    "sql = \"INSERT INTO students (name,email,phone)VALUES (%s, %s, %s)\"\n",
    "data =[\n",
    "    ('Omar Khaled', 'omar.khaled@example.com', '01098765432'),\n",
    "    ('Sara Nabil', 'sara.nabil@example.com', '01122334455'),\n",
    "    ('Mahmoud Adel', 'mahmoud.adel@example.com', '01233445566'),\n",
    "    ('Nour El-Sayed', 'nour.elsayed@example.com', '01044556677'),\n",
    "    ('Youssef Hassan', 'youssef.hassan@example.com', '01577889900')\n",
    "]\n",
    "cur.executemany(sql, data)\n",
    "my_conn.commit()\n",
    "\n",
    "print(cur.rowcount,\"the new record was inserted\")"
   ]
  },
  {
   "cell_type": "code",
   "execution_count": 17,
   "id": "1507fb48",
   "metadata": {},
   "outputs": [
    {
     "name": "stdout",
     "output_type": "stream",
     "text": [
      "3 the new record was inserted\n"
     ]
    }
   ],
   "source": [
    "sql = \"INSERT INTO courses (course_name,credits)VALUES (%s, %s)\"\n",
    "data =[\n",
    "    ('Mathematics', 3),\n",
    "    ('Computer Science', 4),\n",
    "    ('History', 2)\n",
    "]\n",
    "cur.executemany(sql, data)\n",
    "my_conn.commit()\n",
    "\n",
    "print(cur.rowcount,\"the new record was inserted\")"
   ]
  },
  {
   "cell_type": "code",
   "execution_count": 20,
   "id": "c4f5b5dd",
   "metadata": {},
   "outputs": [
    {
     "name": "stdout",
     "output_type": "stream",
     "text": [
      "4 the new record was inserted\n"
     ]
    }
   ],
   "source": [
    "sql = \"INSERT INTO enrollments (student_id,course_id,grade)VALUES (%s,%s, %s)\"\n",
    "data =[\n",
    "    (1, 1, 'A'),\n",
    "    (1, 2, 'B'),\n",
    "    (2, 3, 'A'),\n",
    "    (3, 2, 'C')\n",
    "]\n",
    "cur.executemany(sql, data)\n",
    "my_conn.commit()\n",
    "\n",
    "print(cur.rowcount,\"the new record was inserted\")"
   ]
  },
  {
   "cell_type": "markdown",
   "id": "9590754b",
   "metadata": {},
   "source": [
    "### queries"
   ]
  },
  {
   "cell_type": "code",
   "execution_count": 8,
   "id": "4dd0cb46",
   "metadata": {},
   "outputs": [
    {
     "name": "stdout",
     "output_type": "stream",
     "text": [
      "(1, 'Omar Khaled', 'omar.khaled@example.com', '01098765432')\n",
      "(2, 'Sara Nabil', 'sara.nabil@example.com', '01122334455')\n",
      "(3, 'Mahmoud Adel', 'mahmoud.adel@example.com', '01233445566')\n",
      "(4, 'Nour El-Sayed', 'nour.elsayed@example.com', '01044556677')\n",
      "(5, 'Youssef Hassan', 'youssef.hassan@example.com', '01577889900')\n"
     ]
    }
   ],
   "source": [
    "cur.execute(\"SELECT * FROM students\")\n",
    "results = cur.fetchall()\n",
    "for i in results:\n",
    "    print(i)"
   ]
  },
  {
   "cell_type": "markdown",
   "id": "b470b6dc",
   "metadata": {},
   "source": [
    "### finding students with the grade \"A\" using thier ID"
   ]
  },
  {
   "cell_type": "code",
   "execution_count": 9,
   "id": "d6a74213",
   "metadata": {},
   "outputs": [
    {
     "name": "stdout",
     "output_type": "stream",
     "text": [
      "(1, 1, 1, 'A')\n",
      "(3, 2, 3, 'A')\n"
     ]
    }
   ],
   "source": [
    "cur.execute(\"SELECT * FROM enrollments WHERE grade = 'A' \")\n",
    "results = cur.fetchall()\n",
    "for i in results:\n",
    "    print(i)"
   ]
  },
  {
   "cell_type": "markdown",
   "id": "343de6d2",
   "metadata": {},
   "source": [
    "### finding students with the grade \"A\" with thier names"
   ]
  },
  {
   "cell_type": "code",
   "execution_count": 10,
   "id": "efec08ae",
   "metadata": {},
   "outputs": [
    {
     "name": "stdout",
     "output_type": "stream",
     "text": [
      "(1, 'Omar Khaled', 'A')\n",
      "(2, 'Sara Nabil', 'A')\n"
     ]
    }
   ],
   "source": [
    "cur.execute(\"\"\"\n",
    "SELECT DISTINCT s.student_id,s.name,e.grade\n",
    "FROM students s\n",
    "JOIN enrollments e ON s.student_id = e.student_id\n",
    "WHERE e.grade = 'A'\n",
    "\"\"\")\n",
    "rows = cur.fetchall()\n",
    "for row in rows:\n",
    "    print(row)"
   ]
  },
  {
   "cell_type": "markdown",
   "id": "206840b3",
   "metadata": {},
   "source": [
    "### finding credit hours of all courses"
   ]
  },
  {
   "cell_type": "code",
   "execution_count": 11,
   "id": "f18d16f3",
   "metadata": {},
   "outputs": [
    {
     "name": "stdout",
     "output_type": "stream",
     "text": [
      "(1, 'Mathematics', 3)\n",
      "(2, 'Mathematics', 3)\n",
      "(3, 'Computer Science', 4)\n",
      "(4, 'History', 2)\n"
     ]
    }
   ],
   "source": [
    "cur.execute(\"SELECT * FROM courses\")\n",
    "results = cur.fetchall()\n",
    "for i in results:\n",
    "    print(i)"
   ]
  },
  {
   "cell_type": "markdown",
   "id": "6a1563dc",
   "metadata": {},
   "source": [
    "### find courses where a specific student is enrolled in"
   ]
  },
  {
   "cell_type": "code",
   "execution_count": 12,
   "id": "cc9af09c",
   "metadata": {},
   "outputs": [
    {
     "name": "stdout",
     "output_type": "stream",
     "text": [
      "('Omar Khaled', 'Mathematics', 3, 'A')\n",
      "('Omar Khaled', 'Mathematics', 3, 'B')\n"
     ]
    }
   ],
   "source": [
    "student_name = \"Omar Khaled\"\n",
    "\n",
    "cur.execute(\"\"\" \n",
    "            SELECT s.name AS student_name,c.course_name,c.credits,e.grade\n",
    "            FROM students s\n",
    "            JOIN enrollments e ON s.student_id=e.student_id\n",
    "            JOIN courses c ON e.course_id=c.course_id\n",
    "            WHERE s.name=%s\n",
    "    \"\"\",(student_name,)\n",
    ")\n",
    "results = cur.fetchall()\n",
    "for i in results:\n",
    "    print(i)"
   ]
  },
  {
   "cell_type": "markdown",
   "id": "4a38b847",
   "metadata": {},
   "source": [
    "### list each student with the courses they enlisted in"
   ]
  },
  {
   "cell_type": "code",
   "execution_count": 13,
   "id": "5fa215da",
   "metadata": {},
   "outputs": [
    {
     "name": "stdout",
     "output_type": "stream",
     "text": [
      "(1, 'Omar Khaled', 2)\n",
      "(3, 'Mahmoud Adel', 1)\n",
      "(2, 'Sara Nabil', 1)\n",
      "(5, 'Youssef Hassan', 0)\n",
      "(4, 'Nour El-Sayed', 0)\n"
     ]
    }
   ],
   "source": [
    "cur.execute(\"\"\"\n",
    "SELECT s.student_id, s.name, COUNT(e.course_id) AS course_count\n",
    "FROM students s\n",
    "LEFT JOIN enrollments e ON s.student_id = e.student_id\n",
    "GROUP BY s.student_id, s.name\n",
    "ORDER BY course_count DESC\n",
    "\"\"\")\n",
    "\n",
    "rows = cur.fetchall()\n",
    "for row in rows:\n",
    "    print(row)\n",
    "\n"
   ]
  },
  {
   "cell_type": "markdown",
   "id": "1b5f961f",
   "metadata": {},
   "source": [
    "### find students who are not yet enrolled in any course"
   ]
  },
  {
   "cell_type": "code",
   "execution_count": 14,
   "id": "a0730bf5",
   "metadata": {},
   "outputs": [
    {
     "name": "stdout",
     "output_type": "stream",
     "text": [
      "(5, 'Youssef Hassan', 'youssef.hassan@example.com', '01577889900')\n",
      "(4, 'Nour El-Sayed', 'nour.elsayed@example.com', '01044556677')\n"
     ]
    }
   ],
   "source": [
    "cur.execute(\"\"\"\n",
    "SELECT s.student_id, s.name, s.email, s.phone\n",
    "FROM students s\n",
    "LEFT JOIN enrollments e ON s.student_id = e.student_id\n",
    "WHERE e.enrollment_id IS NULL\n",
    "\"\"\")\n",
    "\n",
    "rows = cur.fetchall()\n",
    "for row in rows:\n",
    "    print(row)\n"
   ]
  },
  {
   "cell_type": "markdown",
   "id": "f37a716f",
   "metadata": {},
   "source": [
    "### show students and their enrollments sorted by grades"
   ]
  },
  {
   "cell_type": "code",
   "execution_count": 15,
   "id": "4acf687a",
   "metadata": {},
   "outputs": [
    {
     "name": "stdout",
     "output_type": "stream",
     "text": [
      "(1, 'Omar Khaled', 'Mathematics', 'A')\n",
      "(3, 'Sara Nabil', 'Computer Science', 'A')\n",
      "(2, 'Omar Khaled', 'Mathematics', 'B')\n",
      "(4, 'Mahmoud Adel', 'Mathematics', 'C')\n"
     ]
    }
   ],
   "source": [
    "cur.execute(\"\"\"\n",
    "SELECT e.enrollment_id, s.name AS student_name, c.course_name, e.grade\n",
    "FROM enrollments e\n",
    "JOIN students s ON e.student_id = s.student_id\n",
    "JOIN courses c ON e.course_id = c.course_id\n",
    "ORDER BY e.grade \n",
    "\"\"\")\n",
    "\n",
    "rows = cur.fetchall()\n",
    "for row in rows:\n",
    "    print(row)\n"
   ]
  },
  {
   "cell_type": "code",
   "execution_count": 17,
   "id": "896498a8",
   "metadata": {},
   "outputs": [
    {
     "name": "stdout",
     "output_type": "stream",
     "text": [
      "('Mathematics', 'A')\n",
      "('Mathematics', 'B')\n",
      "('Computer Science', 'A')\n",
      "('Mathematics', 'C')\n"
     ]
    }
   ],
   "source": [
    "grade_to_gpa = {\n",
    "    'A': 4.0,\n",
    "    'B': 3.0,\n",
    "    'C': 2.0,\n",
    "    'D': 1.0,\n",
    "    'F': 0.0\n",
    "}\n",
    "cur.execute(\"\"\"\n",
    "SELECT c.course_name, e.grade\n",
    "FROM enrollments e\n",
    "JOIN courses c ON e.course_id = c.course_id\n",
    "\"\"\")\n",
    "\n",
    "rows = cur.fetchall()\n",
    "for row in rows:\n",
    "    print(row)"
   ]
  },
  {
   "cell_type": "code",
   "execution_count": 21,
   "id": "584d3772",
   "metadata": {},
   "outputs": [
    {
     "name": "stdout",
     "output_type": "stream",
     "text": [
      "\n",
      "Average GPA per course:\n",
      "Mathematics: 3.00\n",
      "Computer Science: 4.00\n"
     ]
    }
   ],
   "source": [
    "course_grades = {}\n",
    "for course, grade in rows:\n",
    "    gpa = grade_to_gpa.get(grade, None)  # None if grade not found\n",
    "    if gpa is not None:\n",
    "        course_grades.setdefault(course, []).append(gpa)\n",
    "print(\"\\nAverage GPA per course:\")\n",
    "for course, gpas in course_grades.items():\n",
    "    avg_gpa = sum(gpas) / len(gpas)\n",
    "    print(f\"{course}: {avg_gpa:.2f}\")"
   ]
  },
  {
   "cell_type": "code",
   "execution_count": null,
   "id": "858996e4",
   "metadata": {},
   "outputs": [],
   "source": []
  }
 ],
 "metadata": {
  "kernelspec": {
   "display_name": "Python 3",
   "language": "python",
   "name": "python3"
  },
  "language_info": {
   "codemirror_mode": {
    "name": "ipython",
    "version": 3
   },
   "file_extension": ".py",
   "mimetype": "text/x-python",
   "name": "python",
   "nbconvert_exporter": "python",
   "pygments_lexer": "ipython3",
   "version": "3.11.9"
  }
 },
 "nbformat": 4,
 "nbformat_minor": 5
}
